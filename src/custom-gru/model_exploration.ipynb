{
 "cells": [
  {
   "cell_type": "code",
   "execution_count": 2,
   "metadata": {
    "collapsed": true
   },
   "outputs": [
    {
     "name": "stderr",
     "output_type": "stream",
     "text": [
      "WARNING: You are using pip version 21.3.1; however, version 22.2.2 is available.\n",
      "You should consider upgrading via the 'c:\\users\\pedroferreira\\appdata\\local\\programs\\python\\python37\\python.exe -m pip install --upgrade pip' command.\n"
     ]
    },
    {
     "name": "stdout",
     "output_type": "stream",
     "text": [
      "Collecting progress\n",
      "  Downloading progress-1.6.tar.gz (7.8 kB)\n",
      "  Preparing metadata (setup.py): started\n",
      "  Preparing metadata (setup.py): finished with status 'done'\n",
      "Building wheels for collected packages: progress\n",
      "  Building wheel for progress (setup.py): started\n",
      "  Building wheel for progress (setup.py): finished with status 'done'\n",
      "  Created wheel for progress: filename=progress-1.6-py3-none-any.whl size=9616 sha256=bdfa321424ac8380abf8e1e402f2ad82123b90c6a27dd62050fdabfa704c786e\n",
      "  Stored in directory: c:\\users\\pedroferreira\\appdata\\local\\pip\\cache\\wheels\\8e\\d7\\61\\498d8e27dc11e9805b01eb3539e2ee344436fc226daeb5fe87\n",
      "Successfully built progress\n",
      "Installing collected packages: progress\n",
      "Successfully installed progress-1.6\n"
     ]
    }
   ],
   "source": [
    "!pip install progress\n",
    "\n",
    "import torch\n",
    "import config\n",
    "from model import PerformanceRNN\n",
    "\n",
    "model_config = config.model\n",
    "device = config.device\n",
    "\n",
    "model = PerformanceRNN(**model_config).to(device)"
   ]
  },
  {
   "cell_type": "code",
   "execution_count": 3,
   "outputs": [
    {
     "name": "stdout",
     "output_type": "stream",
     "text": [
      "PerformanceRNN(\n",
      "  (inithid_fc): Linear(in_features=32, out_features=1536, bias=True)\n",
      "  (inithid_fc_activation): Tanh()\n",
      "  (event_embedding): Embedding(240, 240)\n",
      "  (concat_input_fc): Linear(in_features=265, out_features=512, bias=True)\n",
      "  (concat_input_fc_activation): LeakyReLU(negative_slope=0.1, inplace=True)\n",
      "  (gru): GRU(512, 512, num_layers=3, dropout=0.3)\n",
      "  (output_fc): Linear(in_features=1536, out_features=240, bias=True)\n",
      "  (output_fc_activation): Softmax(dim=-1)\n",
      ")\n"
     ]
    }
   ],
   "source": [
    "print(model)"
   ],
   "metadata": {
    "collapsed": false
   }
  },
  {
   "cell_type": "code",
   "execution_count": 8,
   "outputs": [],
   "source": [
    "from torchsummary import summary\n",
    "\n",
    "# summary(model, (1, 32, 32))"
   ],
   "metadata": {
    "collapsed": false
   }
  },
  {
   "cell_type": "code",
   "execution_count": 17,
   "outputs": [
    {
     "name": "stdout",
     "output_type": "stream",
     "text": [
      "5341168\n"
     ]
    }
   ],
   "source": [
    "total_params = sum(\n",
    "\tparam.numel() for param in model.parameters()\n",
    ")\n",
    "\n",
    "\n",
    "print(total_params)"
   ],
   "metadata": {
    "collapsed": false
   }
  },
  {
   "cell_type": "code",
   "execution_count": 19,
   "outputs": [
    {
     "name": "stdout",
     "output_type": "stream",
     "text": [
      "inithid_fc.weight 49152\n",
      "inithid_fc.bias 1536\n",
      "event_embedding.weight 57600\n",
      "concat_input_fc.weight 135680\n",
      "concat_input_fc.bias 512\n",
      "gru.weight_ih_l0 786432\n",
      "gru.weight_hh_l0 786432\n",
      "gru.bias_ih_l0 1536\n",
      "gru.bias_hh_l0 1536\n",
      "gru.weight_ih_l1 786432\n",
      "gru.weight_hh_l1 786432\n",
      "gru.bias_ih_l1 1536\n",
      "gru.bias_hh_l1 1536\n",
      "gru.weight_ih_l2 786432\n",
      "gru.weight_hh_l2 786432\n",
      "gru.bias_ih_l2 1536\n",
      "gru.bias_hh_l2 1536\n",
      "output_fc.weight 368640\n",
      "output_fc.bias 240\n"
     ]
    }
   ],
   "source": [
    "for name, param in model.named_parameters():\n",
    "    if param.requires_grad:\n",
    "        print(name, param.numel())"
   ],
   "metadata": {
    "collapsed": false
   }
  },
  {
   "cell_type": "code",
   "execution_count": null,
   "outputs": [],
   "source": [
    " 49152\n",
    " 1536\n",
    " 57600\n",
    " 135680\n",
    " 512\n",
    " 786432\n",
    " 786432\n",
    " 1536\n",
    " 1536\n",
    " 786432\n",
    " 786432\n",
    " 1536\n",
    " 1536\n",
    " 786432\n",
    " 786432\n",
    " 1536\n",
    " 1536\n",
    " 368640\n",
    " 240"
   ],
   "metadata": {
    "collapsed": false
   }
  }
 ],
 "metadata": {
  "kernelspec": {
   "display_name": "Python 3",
   "language": "python",
   "name": "python3"
  },
  "language_info": {
   "codemirror_mode": {
    "name": "ipython",
    "version": 2
   },
   "file_extension": ".py",
   "mimetype": "text/x-python",
   "name": "python",
   "nbconvert_exporter": "python",
   "pygments_lexer": "ipython2",
   "version": "2.7.6"
  }
 },
 "nbformat": 4,
 "nbformat_minor": 0
}
