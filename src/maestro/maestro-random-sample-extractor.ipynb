{
 "cells": [
  {
   "attachments": {},
   "cell_type": "markdown",
   "metadata": {
    "dotnet_interactive": {
     "language": "csharp"
    },
    "polyglot_notebook": {
     "kernelName": "csharp"
    }
   },
   "source": [
    "# MAESTRO RANDOM SAMPLE EXTRACTOR\n",
    "\n",
    "The code below extracts random samples from the MAESTRO dataset. Note that the code bellow is dotnet and you will probably need the [Polyglot Notebooks extension](https://marketplace.visualstudio.com/items?itemName=ms-dotnettools.dotnet-interactive-vscode) to run it."
   ]
  },
  {
   "cell_type": "code",
   "execution_count": 1,
   "metadata": {
    "dotnet_interactive": {
     "language": "csharp"
    },
    "polyglot_notebook": {
     "kernelName": "csharp"
    },
    "vscode": {
     "languageId": "polyglot-notebook"
    }
   },
   "outputs": [
    {
     "data": {
      "text/html": [
       "<div><div></div><div></div><div><strong>Installed Packages</strong><ul><li><span>Melanchall.DryWetMidi, 6.1.2</span></li></ul></div></div>"
      ]
     },
     "metadata": {},
     "output_type": "display_data"
    }
   ],
   "source": [
    "#r \"nuget: Melanchall.DryWetMidi, 6.1.2\""
   ]
  },
  {
   "cell_type": "code",
   "execution_count": 2,
   "metadata": {
    "dotnet_interactive": {
     "language": "csharp"
    },
    "polyglot_notebook": {
     "kernelName": "csharp"
    },
    "vscode": {
     "languageId": "polyglot-notebook"
    }
   },
   "outputs": [],
   "source": [
    "using System;\n",
    "using System.IO;\n",
    "using System.Linq;\n",
    "using Melanchall.DryWetMidi.Core;\n",
    "using Melanchall.DryWetMidi.Interaction;\n",
    "using Melanchall.DryWetMidi.Tools;\n",
    "\n",
    "private const int CropSizeInSeconds = 30;\n",
    "\n",
    "public static string GetRandomFileInDirectory(string directory)\n",
    "{\n",
    "    var allFiles = Directory.EnumerateFiles(directory, \"*.mid\");\n",
    "    var random = new Random();\n",
    "    var randomFile = allFiles.ElementAt(random.Next(allFiles.Count()));\n",
    "    return randomFile;\n",
    "}\n",
    "\n",
    "\n",
    "public static void ExtractCropSample(string file, int cropSizeInSeconds = CropSizeInSeconds)\n",
    "{\n",
    "    // read midi file\n",
    "    var midiFile = MidiFile.Read(file);\n",
    "    var duration = midiFile.GetDuration<MetricTimeSpan>();\n",
    "    var totalSeconds = duration.TotalSeconds;\n",
    "        \n",
    "    //Set the \"croppable\" space subtracting the crop size from the total seconds \n",
    "    var totalCroppableSeconds = (int)(totalSeconds - cropSizeInSeconds);\n",
    "\n",
    "    // generate random number\n",
    "    var random = new Random();\n",
    "    var randomCropPositionStart = random.Next(0, totalCroppableSeconds);\n",
    "\n",
    "    var newMidiFile = midiFile\n",
    "        .SkipPart(new MetricTimeSpan(0, 0, 0))\n",
    "        .TakePart(new MetricTimeSpan(0, 0, cropSizeInSeconds));\n",
    "        \n",
    "    var newFileName = Path.GetFileNameWithoutExtension(file) + \"_random_crop.mid\";\n",
    "        \n",
    "    newMidiFile.Write(Path.Combine(\"./\", newFileName));\n",
    "}\n",
    "\n",
    "\n",
    "var randomFile = GetRandomFileInDirectory(@\"../../data/primers/midi/\");\n",
    "ExtractCropSample(randomFile, 1);"
   ]
  }
 ],
 "metadata": {
  "kernelspec": {
   "display_name": ".NET (C#)",
   "language": "C#",
   "name": ".net-csharp"
  },
  "polyglot_notebook": {
   "kernelInfo": {
    "defaultKernelName": "csharp",
    "items": [
     {
      "aliases": [],
      "name": "csharp"
     }
    ]
   }
  }
 },
 "nbformat": 4,
 "nbformat_minor": 2
}
