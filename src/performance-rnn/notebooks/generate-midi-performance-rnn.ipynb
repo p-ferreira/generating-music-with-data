{
 "cells": [
  {
   "attachments": {},
   "cell_type": "markdown",
   "metadata": {
    "collapsed": false
   },
   "source": [
    "# PerformanceRNN sample generation\n",
    "\n",
    "The chunk of code bellow uses magenta's performance RNN to generate MIDI.\n",
    "Note that the MIDI files will be generated at the same directory of this notebook, specifically in the `generated` folder."
   ]
  },
  {
   "cell_type": "code",
   "execution_count": 3,
   "metadata": {
    "collapsed": false
   },
   "outputs": [
    {
     "name": "stdout",
     "output_type": "stream",
     "text": [
      "WARNING:tensorflow:No priming sequence specified. Defaulting to empty sequence.\n"
     ]
    },
    {
     "name": "stderr",
     "output_type": "stream",
     "text": [
      "WARNING:tensorflow:No priming sequence specified. Defaulting to empty sequence.\n"
     ]
    },
    {
     "name": "stdout",
     "output_type": "stream",
     "text": [
      "WARNING:tensorflow:The saved meta_graph is possibly from an older release:\n",
      "'model_variables' collection should be of type 'byte_list', but instead is of type 'node_list'.\n"
     ]
    },
    {
     "name": "stderr",
     "output_type": "stream",
     "text": [
      "WARNING:tensorflow:The saved meta_graph is possibly from an older release:\n",
      "'model_variables' collection should be of type 'byte_list', but instead is of type 'node_list'.\n"
     ]
    },
    {
     "name": "stdout",
     "output_type": "stream",
     "text": [
      "INFO:tensorflow:Restoring parameters from C:\\Users\\PEDROF~1\\AppData\\Local\\Temp\\tmpenjfm4um\\model.ckpt\n"
     ]
    },
    {
     "name": "stderr",
     "output_type": "stream",
     "text": [
      "INFO:tensorflow:Restoring parameters from C:\\Users\\PEDROF~1\\AppData\\Local\\Temp\\tmpenjfm4um\\model.ckpt\n"
     ]
    },
    {
     "name": "stdout",
     "output_type": "stream",
     "text": [
      "INFO:tensorflow:Need to generate 2899 more steps for this sequence, will try asking for 1740 RNN steps\n"
     ]
    },
    {
     "name": "stderr",
     "output_type": "stream",
     "text": [
      "INFO:tensorflow:Need to generate 2899 more steps for this sequence, will try asking for 1740 RNN steps\n"
     ]
    },
    {
     "name": "stdout",
     "output_type": "stream",
     "text": [
      "INFO:tensorflow:Beam search yields sequence with log-likelihood: -4048.712646 \n"
     ]
    },
    {
     "name": "stderr",
     "output_type": "stream",
     "text": [
      "INFO:tensorflow:Beam search yields sequence with log-likelihood: -4048.712646 \n"
     ]
    },
    {
     "name": "stdout",
     "output_type": "stream",
     "text": [
      "INFO:tensorflow:Need to generate 2899 more steps for this sequence, will try asking for 1740 RNN steps\n"
     ]
    },
    {
     "name": "stderr",
     "output_type": "stream",
     "text": [
      "INFO:tensorflow:Need to generate 2899 more steps for this sequence, will try asking for 1740 RNN steps\n"
     ]
    },
    {
     "name": "stdout",
     "output_type": "stream",
     "text": [
      "INFO:tensorflow:Beam search yields sequence with log-likelihood: -3717.665283 \n"
     ]
    },
    {
     "name": "stderr",
     "output_type": "stream",
     "text": [
      "INFO:tensorflow:Beam search yields sequence with log-likelihood: -3717.665283 \n"
     ]
    },
    {
     "name": "stdout",
     "output_type": "stream",
     "text": [
      "INFO:tensorflow:Need to generate 316 more steps for this sequence, will try asking for 190 RNN steps\n"
     ]
    },
    {
     "name": "stderr",
     "output_type": "stream",
     "text": [
      "INFO:tensorflow:Need to generate 316 more steps for this sequence, will try asking for 190 RNN steps\n"
     ]
    },
    {
     "name": "stdout",
     "output_type": "stream",
     "text": [
      "INFO:tensorflow:Beam search yields sequence with log-likelihood: -4186.763184 \n"
     ]
    },
    {
     "name": "stderr",
     "output_type": "stream",
     "text": [
      "INFO:tensorflow:Beam search yields sequence with log-likelihood: -4186.763184 \n"
     ]
    },
    {
     "name": "stdout",
     "output_type": "stream",
     "text": [
      "INFO:tensorflow:Need to generate 125 more steps for this sequence, will try asking for 75 RNN steps\n"
     ]
    },
    {
     "name": "stderr",
     "output_type": "stream",
     "text": [
      "INFO:tensorflow:Need to generate 125 more steps for this sequence, will try asking for 75 RNN steps\n"
     ]
    },
    {
     "name": "stdout",
     "output_type": "stream",
     "text": [
      "INFO:tensorflow:Beam search yields sequence with log-likelihood: -4385.950195 \n"
     ]
    },
    {
     "name": "stderr",
     "output_type": "stream",
     "text": [
      "INFO:tensorflow:Beam search yields sequence with log-likelihood: -4385.950195 \n"
     ]
    },
    {
     "name": "stdout",
     "output_type": "stream",
     "text": [
      "INFO:tensorflow:Need to generate 33 more steps for this sequence, will try asking for 20 RNN steps\n"
     ]
    },
    {
     "name": "stderr",
     "output_type": "stream",
     "text": [
      "INFO:tensorflow:Need to generate 33 more steps for this sequence, will try asking for 20 RNN steps\n"
     ]
    },
    {
     "name": "stdout",
     "output_type": "stream",
     "text": [
      "INFO:tensorflow:Beam search yields sequence with log-likelihood: -4433.898438 \n"
     ]
    },
    {
     "name": "stderr",
     "output_type": "stream",
     "text": [
      "INFO:tensorflow:Beam search yields sequence with log-likelihood: -4433.898438 \n"
     ]
    },
    {
     "name": "stdout",
     "output_type": "stream",
     "text": [
      "INFO:tensorflow:Need to generate 23 more steps for this sequence, will try asking for 14 RNN steps\n"
     ]
    },
    {
     "name": "stderr",
     "output_type": "stream",
     "text": [
      "INFO:tensorflow:Need to generate 23 more steps for this sequence, will try asking for 14 RNN steps\n"
     ]
    },
    {
     "name": "stdout",
     "output_type": "stream",
     "text": [
      "INFO:tensorflow:Beam search yields sequence with log-likelihood: -4472.650391 \n"
     ]
    },
    {
     "name": "stderr",
     "output_type": "stream",
     "text": [
      "INFO:tensorflow:Beam search yields sequence with log-likelihood: -4472.650391 \n"
     ]
    },
    {
     "name": "stdout",
     "output_type": "stream",
     "text": [
      "INFO:tensorflow:Need to generate 2899 more steps for this sequence, will try asking for 1740 RNN steps\n"
     ]
    },
    {
     "name": "stderr",
     "output_type": "stream",
     "text": [
      "INFO:tensorflow:Need to generate 2899 more steps for this sequence, will try asking for 1740 RNN steps\n"
     ]
    },
    {
     "name": "stdout",
     "output_type": "stream",
     "text": [
      "INFO:tensorflow:Beam search yields sequence with log-likelihood: -3903.982666 \n"
     ]
    },
    {
     "name": "stderr",
     "output_type": "stream",
     "text": [
      "INFO:tensorflow:Beam search yields sequence with log-likelihood: -3903.982666 \n"
     ]
    },
    {
     "name": "stdout",
     "output_type": "stream",
     "text": [
      "INFO:tensorflow:Need to generate 2899 more steps for this sequence, will try asking for 1740 RNN steps\n"
     ]
    },
    {
     "name": "stderr",
     "output_type": "stream",
     "text": [
      "INFO:tensorflow:Need to generate 2899 more steps for this sequence, will try asking for 1740 RNN steps\n"
     ]
    },
    {
     "name": "stdout",
     "output_type": "stream",
     "text": [
      "INFO:tensorflow:Beam search yields sequence with log-likelihood: -4022.635010 \n"
     ]
    },
    {
     "name": "stderr",
     "output_type": "stream",
     "text": [
      "INFO:tensorflow:Beam search yields sequence with log-likelihood: -4022.635010 \n"
     ]
    },
    {
     "name": "stdout",
     "output_type": "stream",
     "text": [
      "INFO:tensorflow:Need to generate 2899 more steps for this sequence, will try asking for 1740 RNN steps\n"
     ]
    },
    {
     "name": "stderr",
     "output_type": "stream",
     "text": [
      "INFO:tensorflow:Need to generate 2899 more steps for this sequence, will try asking for 1740 RNN steps\n"
     ]
    },
    {
     "name": "stdout",
     "output_type": "stream",
     "text": [
      "INFO:tensorflow:Beam search yields sequence with log-likelihood: -3752.310303 \n"
     ]
    },
    {
     "name": "stderr",
     "output_type": "stream",
     "text": [
      "INFO:tensorflow:Beam search yields sequence with log-likelihood: -3752.310303 \n"
     ]
    },
    {
     "name": "stdout",
     "output_type": "stream",
     "text": [
      "INFO:tensorflow:Need to generate 2899 more steps for this sequence, will try asking for 1740 RNN steps\n"
     ]
    },
    {
     "name": "stderr",
     "output_type": "stream",
     "text": [
      "INFO:tensorflow:Need to generate 2899 more steps for this sequence, will try asking for 1740 RNN steps\n"
     ]
    },
    {
     "name": "stdout",
     "output_type": "stream",
     "text": [
      "INFO:tensorflow:Beam search yields sequence with log-likelihood: -4100.562988 \n"
     ]
    },
    {
     "name": "stderr",
     "output_type": "stream",
     "text": [
      "INFO:tensorflow:Beam search yields sequence with log-likelihood: -4100.562988 \n"
     ]
    },
    {
     "name": "stdout",
     "output_type": "stream",
     "text": [
      "INFO:tensorflow:Need to generate 2899 more steps for this sequence, will try asking for 1740 RNN steps\n"
     ]
    },
    {
     "name": "stderr",
     "output_type": "stream",
     "text": [
      "INFO:tensorflow:Need to generate 2899 more steps for this sequence, will try asking for 1740 RNN steps\n"
     ]
    },
    {
     "name": "stdout",
     "output_type": "stream",
     "text": [
      "INFO:tensorflow:Beam search yields sequence with log-likelihood: -3721.538818 \n"
     ]
    },
    {
     "name": "stderr",
     "output_type": "stream",
     "text": [
      "INFO:tensorflow:Beam search yields sequence with log-likelihood: -3721.538818 \n"
     ]
    },
    {
     "name": "stdout",
     "output_type": "stream",
     "text": [
      "INFO:tensorflow:Need to generate 2899 more steps for this sequence, will try asking for 1740 RNN steps\n"
     ]
    },
    {
     "name": "stderr",
     "output_type": "stream",
     "text": [
      "INFO:tensorflow:Need to generate 2899 more steps for this sequence, will try asking for 1740 RNN steps\n"
     ]
    },
    {
     "name": "stdout",
     "output_type": "stream",
     "text": [
      "INFO:tensorflow:Beam search yields sequence with log-likelihood: -3831.291016 \n"
     ]
    },
    {
     "name": "stderr",
     "output_type": "stream",
     "text": [
      "INFO:tensorflow:Beam search yields sequence with log-likelihood: -3831.291016 \n"
     ]
    },
    {
     "name": "stdout",
     "output_type": "stream",
     "text": [
      "INFO:tensorflow:Need to generate 2899 more steps for this sequence, will try asking for 1740 RNN steps\n"
     ]
    },
    {
     "name": "stderr",
     "output_type": "stream",
     "text": [
      "INFO:tensorflow:Need to generate 2899 more steps for this sequence, will try asking for 1740 RNN steps\n"
     ]
    },
    {
     "name": "stdout",
     "output_type": "stream",
     "text": [
      "INFO:tensorflow:Beam search yields sequence with log-likelihood: -4079.950439 \n"
     ]
    },
    {
     "name": "stderr",
     "output_type": "stream",
     "text": [
      "INFO:tensorflow:Beam search yields sequence with log-likelihood: -4079.950439 \n"
     ]
    },
    {
     "name": "stdout",
     "output_type": "stream",
     "text": [
      "INFO:tensorflow:Need to generate 2899 more steps for this sequence, will try asking for 1740 RNN steps\n"
     ]
    },
    {
     "name": "stderr",
     "output_type": "stream",
     "text": [
      "INFO:tensorflow:Need to generate 2899 more steps for this sequence, will try asking for 1740 RNN steps\n"
     ]
    },
    {
     "name": "stdout",
     "output_type": "stream",
     "text": [
      "INFO:tensorflow:Beam search yields sequence with log-likelihood: -3453.133545 \n"
     ]
    },
    {
     "name": "stderr",
     "output_type": "stream",
     "text": [
      "INFO:tensorflow:Beam search yields sequence with log-likelihood: -3453.133545 \n"
     ]
    },
    {
     "name": "stdout",
     "output_type": "stream",
     "text": [
      "INFO:tensorflow:Wrote 10 MIDI files to generated\n"
     ]
    },
    {
     "name": "stderr",
     "output_type": "stream",
     "text": [
      "INFO:tensorflow:Wrote 10 MIDI files to generated\n"
     ]
    }
   ],
   "source": [
    "import sys\n",
    "from magenta.models.performance_rnn import performance_rnn_generate\n",
    "\n",
    "sys.argv = ['']\n",
    "\n",
    "# Model directory\n",
    "BUNDLE_FILE = '../bin/performance_with_dynamics.mag'\n",
    "\n",
    "# Model parameters for generation\n",
    "performance_rnn_generate.FLAGS.config='performance'\n",
    "performance_rnn_generate.FLAGS.bundle_file='performance.mag'\n",
    "performance_rnn_generate.FLAGS.bundle_file=BUNDLE_FILE\n",
    "\n",
    "# Output directory where the MIDI files will be created\n",
    "performance_rnn_generate.FLAGS.output_dir='generated'\n",
    "\n",
    "# Number of MIDI files to be generated\n",
    "performance_rnn_generate.FLAGS.num_outputs=10\n",
    "\n",
    "# Number of steps (tokens) to be generated\n",
    "performance_rnn_generate.FLAGS.num_steps=3000\n",
    "\n",
    "performance_rnn_generate.main(None)"
   ]
  },
  {
   "cell_type": "code",
   "execution_count": null,
   "metadata": {},
   "outputs": [],
   "source": []
  }
 ],
 "metadata": {
  "kernelspec": {
   "display_name": "performance-rnn-env",
   "language": "python",
   "name": "python3"
  },
  "language_info": {
   "codemirror_mode": {
    "name": "ipython",
    "version": 3
   },
   "file_extension": ".py",
   "mimetype": "text/x-python",
   "name": "python",
   "nbconvert_exporter": "python",
   "pygments_lexer": "ipython3",
   "version": "3.7.13"
  },
  "vscode": {
   "interpreter": {
    "hash": "ec3eb9bdf5dda1f3d2cdb3f45fcce2e1f446201f3c6d9ecb92a6a05760af2cc1"
   }
  }
 },
 "nbformat": 4,
 "nbformat_minor": 0
}
