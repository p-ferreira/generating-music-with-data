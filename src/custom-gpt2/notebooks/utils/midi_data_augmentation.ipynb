{
 "cells": [
  {
   "cell_type": "markdown",
   "source": [
    "## MIDI data augmentation example\n",
    "\n",
    "The chunk of code bellow exemplify how to use the [make_token_sequence_dataset](../../src/data/make_token_sequence_dataset.py) module to augment a MIDI file using time strecthing and tone transposition transformations."
   ],
   "metadata": {
    "collapsed": false
   }
  },
  {
   "cell_type": "code",
   "execution_count": 4,
   "outputs": [],
   "source": [
    "# Imports python modules located at the src/data directory (make_token_sequence_dataset)\n",
    "import sys\n",
    "sys.path.append('../..')\n",
    "\n",
    "# noinspection PyUnresolvedReferences\n",
    "from make_token_sequence_dataset import augment_and_quantize_note_sequence, STRETCH_RANGE, TRANSPOSITION_RANGE\n",
    "\n",
    "# Other imports\n",
    "import os\n",
    "import note_seq\n",
    "\n",
    "\n",
    "PRIMER_EXTRACT = 'prelude_in_c_major.mid'\n",
    "PRIMER_PATH = f'../../resources/midi/{PRIMER_EXTRACT}'\n",
    "AUGMENTATION_OUTPUT_PATH = 'augmentation_example'\n",
    "notes = note_seq.midi_file_to_note_sequence(PRIMER_PATH)\n",
    "\n",
    "# Creates augmentation output path in case it doesn't exist\n",
    "if not os.path.exists(AUGMENTATION_OUTPUT_PATH):\n",
    "    os.mkdir(AUGMENTATION_OUTPUT_PATH)\n",
    "\n",
    "# Get note sequence from selected primer file\n",
    "notes = note_seq.midi_file_to_note_sequence(PRIMER_PATH)\n",
    "\n",
    "# Augment sequences\n",
    "augmented_sequences = augment_and_quantize_note_sequence(notes, STRETCH_RANGE, TRANSPOSITION_RANGE)\n",
    "\n",
    "# Transforms each augmented sequence into midi file\n",
    "for index, sequence in enumerate(augmented_sequences):\n",
    "    note_seq.note_sequence_to_midi_file(sequence, f'{AUGMENTATION_OUTPUT_PATH}/{PRIMER_EXTRACT}{index}.mid')"
   ],
   "metadata": {
    "collapsed": false
   }
  }
 ],
 "metadata": {
  "kernelspec": {
   "display_name": "Python 3",
   "language": "python",
   "name": "python3"
  },
  "language_info": {
   "codemirror_mode": {
    "name": "ipython",
    "version": 2
   },
   "file_extension": ".py",
   "mimetype": "text/x-python",
   "name": "python",
   "nbconvert_exporter": "python",
   "pygments_lexer": "ipython2",
   "version": "2.7.6"
  }
 },
 "nbformat": 4,
 "nbformat_minor": 0
}
