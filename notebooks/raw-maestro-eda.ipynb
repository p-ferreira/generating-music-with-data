{
 "cells": [
  {
   "cell_type": "markdown",
   "source": [
    "# Initial import of packages and metadata"
   ],
   "metadata": {
    "collapsed": false
   }
  },
  {
   "cell_type": "code",
   "execution_count": 1,
   "outputs": [],
   "source": [
    "import pandas as pd\n",
    "\n",
    "metadata_file_directory = '../data/raw/maestro/maestro-v3.0.0/maestro-v3.0.0.csv'\n",
    "maestro_metadata_df = pd.read_csv(metadata_file_directory)"
   ],
   "metadata": {
    "collapsed": false
   }
  },
  {
   "cell_type": "markdown",
   "source": [
    "## Split data overview"
   ],
   "metadata": {
    "collapsed": false
   }
  },
  {
   "cell_type": "code",
   "execution_count": 2,
   "outputs": [
    {
     "name": "stdout",
     "output_type": "stream",
     "text": [
      "Total of files: 1276\n",
      "Total of train: 962 (75.39%)\n",
      "Total of validation: 137 (10.74%)\n",
      "Total of test: 177 (13.87%)\n"
     ]
    }
   ],
   "source": [
    "total_of_files = len(maestro_metadata_df)\n",
    "split_dictionary = maestro_metadata_df.groupby('split').size().to_dict()\n",
    "total_train, total_validation, total_test = split_dictionary['train'], split_dictionary['validation'], split_dictionary['test']\n",
    "\n",
    "def format_total_output(sample: int, total: int) -> str:\n",
    "    return str(sample) + ' (' + str(round(sample/total*100, 2)) + '%)'\n",
    "\n",
    "print('Total of files: ' + str(total_of_files))\n",
    "print('Total of train: ' + format_total_output(total_train, total_of_files))\n",
    "print('Total of validation: ' + format_total_output(total_validation, total_of_files))\n",
    "print('Total of test: ' + format_total_output(total_test, total_of_files))"
   ],
   "metadata": {
    "collapsed": false
   }
  },
  {
   "cell_type": "markdown",
   "source": [
    "## Amount of files per year"
   ],
   "metadata": {
    "collapsed": false
   }
  },
  {
   "cell_type": "code",
   "execution_count": 3,
   "outputs": [
    {
     "data": {
      "text/plain": "year\n2004    132\n2006    115\n2008    147\n2009    125\n2011    163\n2013    127\n2014    105\n2015    129\n2017    140\n2018     93\ndtype: int64"
     },
     "execution_count": 3,
     "metadata": {},
     "output_type": "execute_result"
    }
   ],
   "source": [
    "maestro_metadata_df.groupby('year').size()"
   ],
   "metadata": {
    "collapsed": false
   }
  },
  {
   "cell_type": "markdown",
   "source": [
    "## Piece duration distribution"
   ],
   "metadata": {
    "collapsed": false
   }
  },
  {
   "cell_type": "code",
   "execution_count": 4,
   "outputs": [
    {
     "name": "stdout",
     "output_type": "stream",
     "text": [
      "count    1276.000000\n",
      "mean      560.463595\n",
      "std       443.057431\n",
      "min        45.155208\n",
      "25%       261.981576\n",
      "50%       429.168241\n",
      "75%       685.018817\n",
      "max      2624.663508\n",
      "Name: duration, dtype: float64\n"
     ]
    },
    {
     "data": {
      "text/plain": "<Figure size 432x288 with 1 Axes>",
      "image/png": "[encoded data removed]"
     },
     "metadata": {
      "needs_background": "light"
     },
     "output_type": "display_data"
    }
   ],
   "source": [
    "maestro_metadata_df['duration'].plot(kind='hist', bins=100)\n",
    "print(maestro_metadata_df['duration'].describe())"
   ],
   "metadata": {
    "collapsed": false
   }
  },
  {
   "cell_type": "markdown",
   "source": [
    "It's easy to visualize that most of the data is between 1 and 10 minutes, having some outliers of 45 seconds on one side and outliers over 40 minutes on the other side."
   ],
   "metadata": {
    "collapsed": false
   }
  },
  {
   "cell_type": "code",
   "execution_count": 5,
   "outputs": [
    {
     "data": {
      "text/plain": "           canonical_composer                 canonical_title       split  \\\n0                  Alban Berg                    Sonata Op. 1       train   \n1                  Alban Berg                    Sonata Op. 1       train   \n2                  Alban Berg                    Sonata Op. 1       train   \n3          Alexander Scriabin   24 Preludes Op. 11, No. 13-24       train   \n4          Alexander Scriabin                3 Etudes, Op. 65  validation   \n...                       ...                             ...         ...   \n1271  Wolfgang Amadeus Mozart         Sonata in F Major, K280        test   \n1272  Wolfgang Amadeus Mozart         Sonata in F Major, K280       train   \n1273  Wolfgang Amadeus Mozart         Sonata in F Major, K533  validation   \n1274  Wolfgang Amadeus Mozart    Sonata in F Major, K533/K494  validation   \n1275  Wolfgang Amadeus Mozart  Twelve Variations, K179 (189a)       train   \n\n      year                                      midi_filename  \\\n0     2018  2018/MIDI-Unprocessed_Chamber3_MID--AUDIO_10_R...   \n1     2008  2008/MIDI-Unprocessed_03_R2_2008_01-03_ORIG_MI...   \n2     2017  2017/MIDI-Unprocessed_066_PIANO066_MID--AUDIO-...   \n3     2004  2004/MIDI-Unprocessed_XP_21_R1_2004_01_ORIG_MI...   \n4     2006  2006/MIDI-Unprocessed_17_R1_2006_01-06_ORIG_MI...   \n...    ...                                                ...   \n1271  2004  2004/MIDI-Unprocessed_XP_14_R1_2004_04_ORIG_MI...   \n1272  2004  2004/MIDI-Unprocessed_XP_14_R1_2004_04_ORIG_MI...   \n1273  2004  2004/MIDI-Unprocessed_SMF_12_01_2004_01-05_ORI...   \n1274  2018  2018/MIDI-Unprocessed_Recital17-19_MID--AUDIO_...   \n1275  2004  2004/MIDI-Unprocessed_XP_04_R1_2004_01-02_ORIG...   \n\n                                         audio_filename     duration  \n0     2018/MIDI-Unprocessed_Chamber3_MID--AUDIO_10_R...   698.661160  \n1     2008/MIDI-Unprocessed_03_R2_2008_01-03_ORIG_MI...   759.518471  \n2     2017/MIDI-Unprocessed_066_PIANO066_MID--AUDIO-...   464.649433  \n3     2004/MIDI-Unprocessed_XP_21_R1_2004_01_ORIG_MI...   872.640588  \n4     2006/MIDI-Unprocessed_17_R1_2006_01-06_ORIG_MI...   397.857508  \n...                                                 ...          ...  \n1271  2004/MIDI-Unprocessed_XP_14_R1_2004_04_ORIG_MI...   241.470442  \n1272  2004/MIDI-Unprocessed_XP_14_R1_2004_04_ORIG_MI...   114.696243  \n1273  2004/MIDI-Unprocessed_SMF_12_01_2004_01-05_ORI...  1139.198478  \n1274  2018/MIDI-Unprocessed_Recital17-19_MID--AUDIO_...  1068.751602  \n1275  2004/MIDI-Unprocessed_XP_04_R1_2004_01-02_ORIG...   630.266303  \n\n[1276 rows x 7 columns]",
      "text/html": "<div>\n<style scoped>\n    .dataframe tbody tr th:only-of-type {\n        vertical-align: middle;\n    }\n\n    .dataframe tbody tr th {\n        vertical-align: top;\n    }\n\n    .dataframe thead th {\n        text-align: right;\n    }\n</style>\n<table border=\"1\" class=\"dataframe\">\n  <thead>\n    <tr style=\"text-align: right;\">\n      <th></th>\n      <th>canonical_composer</th>\n      <th>canonical_title</th>\n      <th>split</th>\n      <th>year</th>\n      <th>midi_filename</th>\n      <th>audio_filename</th>\n      <th>duration</th>\n    </tr>\n  </thead>\n  <tbody>\n    <tr>\n      <th>0</th>\n      <td>Alban Berg</td>\n      <td>Sonata Op. 1</td>\n      <td>train</td>\n      <td>2018</td>\n      <td>2018/MIDI-Unprocessed_Chamber3_MID--AUDIO_10_R...</td>\n      <td>2018/MIDI-Unprocessed_Chamber3_MID--AUDIO_10_R...</td>\n      <td>698.661160</td>\n    </tr>\n    <tr>\n      <th>1</th>\n      <td>Alban Berg</td>\n      <td>Sonata Op. 1</td>\n      <td>train</td>\n      <td>2008</td>\n      <td>2008/MIDI-Unprocessed_03_R2_2008_01-03_ORIG_MI...</td>\n      <td>2008/MIDI-Unprocessed_03_R2_2008_01-03_ORIG_MI...</td>\n      <td>759.518471</td>\n    </tr>\n    <tr>\n      <th>2</th>\n      <td>Alban Berg</td>\n      <td>Sonata Op. 1</td>\n      <td>train</td>\n      <td>2017</td>\n      <td>2017/MIDI-Unprocessed_066_PIANO066_MID--AUDIO-...</td>\n      <td>2017/MIDI-Unprocessed_066_PIANO066_MID--AUDIO-...</td>\n      <td>464.649433</td>\n    </tr>\n    <tr>\n      <th>3</th>\n      <td>Alexander Scriabin</td>\n      <td>24 Preludes Op. 11, No. 13-24</td>\n      <td>train</td>\n      <td>2004</td>\n      <td>2004/MIDI-Unprocessed_XP_21_R1_2004_01_ORIG_MI...</td>\n      <td>2004/MIDI-Unprocessed_XP_21_R1_2004_01_ORIG_MI...</td>\n      <td>872.640588</td>\n    </tr>\n    <tr>\n      <th>4</th>\n      <td>Alexander Scriabin</td>\n      <td>3 Etudes, Op. 65</td>\n      <td>validation</td>\n      <td>2006</td>\n      <td>2006/MIDI-Unprocessed_17_R1_2006_01-06_ORIG_MI...</td>\n      <td>2006/MIDI-Unprocessed_17_R1_2006_01-06_ORIG_MI...</td>\n      <td>397.857508</td>\n    </tr>\n    <tr>\n      <th>...</th>\n      <td>...</td>\n      <td>...</td>\n      <td>...</td>\n      <td>...</td>\n      <td>...</td>\n      <td>...</td>\n      <td>...</td>\n    </tr>\n    <tr>\n      <th>1271</th>\n      <td>Wolfgang Amadeus Mozart</td>\n      <td>Sonata in F Major, K280</td>\n      <td>test</td>\n      <td>2004</td>\n      <td>2004/MIDI-Unprocessed_XP_14_R1_2004_04_ORIG_MI...</td>\n      <td>2004/MIDI-Unprocessed_XP_14_R1_2004_04_ORIG_MI...</td>\n      <td>241.470442</td>\n    </tr>\n    <tr>\n      <th>1272</th>\n      <td>Wolfgang Amadeus Mozart</td>\n      <td>Sonata in F Major, K280</td>\n      <td>train</td>\n      <td>2004</td>\n      <td>2004/MIDI-Unprocessed_XP_14_R1_2004_04_ORIG_MI...</td>\n      <td>2004/MIDI-Unprocessed_XP_14_R1_2004_04_ORIG_MI...</td>\n      <td>114.696243</td>\n    </tr>\n    <tr>\n      <th>1273</th>\n      <td>Wolfgang Amadeus Mozart</td>\n      <td>Sonata in F Major, K533</td>\n      <td>validation</td>\n      <td>2004</td>\n      <td>2004/MIDI-Unprocessed_SMF_12_01_2004_01-05_ORI...</td>\n      <td>2004/MIDI-Unprocessed_SMF_12_01_2004_01-05_ORI...</td>\n      <td>1139.198478</td>\n    </tr>\n    <tr>\n      <th>1274</th>\n      <td>Wolfgang Amadeus Mozart</td>\n      <td>Sonata in F Major, K533/K494</td>\n      <td>validation</td>\n      <td>2018</td>\n      <td>2018/MIDI-Unprocessed_Recital17-19_MID--AUDIO_...</td>\n      <td>2018/MIDI-Unprocessed_Recital17-19_MID--AUDIO_...</td>\n      <td>1068.751602</td>\n    </tr>\n    <tr>\n      <th>1275</th>\n      <td>Wolfgang Amadeus Mozart</td>\n      <td>Twelve Variations, K179 (189a)</td>\n      <td>train</td>\n      <td>2004</td>\n      <td>2004/MIDI-Unprocessed_XP_04_R1_2004_01-02_ORIG...</td>\n      <td>2004/MIDI-Unprocessed_XP_04_R1_2004_01-02_ORIG...</td>\n      <td>630.266303</td>\n    </tr>\n  </tbody>\n</table>\n<p>1276 rows × 7 columns</p>\n</div>"
     },
     "execution_count": 5,
     "metadata": {},
     "output_type": "execute_result"
    }
   ],
   "source": [
    "# First 10 results of dataset\n",
    "maestro_metadata_df.head(10)"
   ],
   "metadata": {
    "collapsed": false
   }
  }
 ],
 "metadata": {
  "kernelspec": {
   "display_name": "Python 3",
   "language": "python",
   "name": "python3"
  },
  "language_info": {
   "codemirror_mode": {
    "name": "ipython",
    "version": 2
   },
   "file_extension": ".py",
   "mimetype": "text/x-python",
   "name": "python",
   "nbconvert_exporter": "python",
   "pygments_lexer": "ipython2",
   "version": "2.7.6"
  }
 },
 "nbformat": 4,
 "nbformat_minor": 0
}
